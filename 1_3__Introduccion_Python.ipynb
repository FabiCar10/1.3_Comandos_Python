{
  "nbformat": 4,
  "nbformat_minor": 0,
  "metadata": {
    "colab": {
      "provenance": [],
      "authorship_tag": "ABX9TyMQ2Bx8pXAKordPq2wOaoOl",
      "include_colab_link": true
    },
    "kernelspec": {
      "name": "python3",
      "display_name": "Python 3"
    },
    "language_info": {
      "name": "python"
    }
  },
  "cells": [
    {
      "cell_type": "markdown",
      "metadata": {
        "id": "view-in-github",
        "colab_type": "text"
      },
      "source": [
        "<a href=\"https://colab.research.google.com/github/FabiCar10/1.3_Comandos_Python/blob/main/1_3__Introduccion_Python.ipynb\" target=\"_parent\"><img src=\"https://colab.research.google.com/assets/colab-badge.svg\" alt=\"Open In Colab\"/></a>"
      ]
    },
    {
      "cell_type": "markdown",
      "source": [
        "### *1.3 Introducción a Python *\n",
        "**Alumna:** Karina Carmona\n",
        "\n",
        "**Crrera y semestre:** LDC-07\n",
        "\n",
        "**Fecha:** 15/09/23"
      ],
      "metadata": {
        "id": "EbBvFUodZN2r"
      }
    },
    {
      "cell_type": "code",
      "source": [
        "#Trabajar con JSON\n",
        "import json   #Se importa la libreria JSON\n",
        "info = {\n",
        "  'full_name': 'Sherlock Holmes',           #Se indica la informacion que se utlizara\n",
        "  'address': {\n",
        "      'street': '221B Baker St',\n",
        "      'zip': 'NW1 6XE',\n",
        "      'city': 'London',\n",
        "      'country': 'UK',\n",
        "    }\n",
        "}\n",
        "print(json.dumps(info, indent=2, sort_keys=True))   #Imprime y se usa funcion json.dumos para idicar que la queremos con sangria y que lo quwremos acomodado alfabeticamente"
      ],
      "metadata": {
        "colab": {
          "base_uri": "https://localhost:8080/"
        },
        "id": "DFdrLbwXd4El",
        "outputId": "734d3873-9c63-43dd-d203-71f32769ce43"
      },
      "execution_count": null,
      "outputs": [
        {
          "output_type": "stream",
          "name": "stdout",
          "text": [
            "{\n",
            "  \"address\": {\n",
            "    \"city\": \"London\",\n",
            "    \"country\": \"UK\",\n",
            "    \"street\": \"221B Baker St\",\n",
            "    \"zip\": \"NW1 6XE\"\n",
            "  },\n",
            "  \"full_name\": \"Sherlock Holmes\"\n",
            "}\n"
          ]
        }
      ]
    },
    {
      "cell_type": "code",
      "source": [
        "# Codificación/decodificación personalizada con JSON\n",
        "import json             #Importa libreria JSON\n",
        "\n",
        "class ComplexEncoder(json.JSONEncoder):   #Se define clase ComplexEncode como\n",
        "                                            #subclase de JSONEcode\n",
        "\n",
        "  def default(self, obj):       #default() comprueba si su argumento es un objeto\n",
        "                                # complejo\n",
        "\n",
        "    print(f\"ComplexEncoder.default: {obj=}\")\n",
        "    if isinstance(obj, complex):\n",
        "        return {\n",
        "        '_meta': '_complex',                 #Se rellena los espacios con emta informatica\n",
        "        'num': [obj.real, obj.imag],         #personalizada y una lista que contiene la parte real\n",
        "        }                                    #como la imaginaria\n",
        "    return super().default(obj)           #Se llama a default de la clase\n",
        "\n",
        "data = {\n",
        "'an_int': 42,\n",
        "'a_float': 3.14159265,\n",
        "'a_complex': 3 + 4j,\n",
        "}\n",
        "\n",
        "json_data = json.dumps(data, cls=ComplexEncoder)        #Se llmar a json.dumps pero usando el argumento cls\n",
        "print(json_data)\n",
        "\n",
        "def object_hook(obj):\n",
        "    print(f\"object_hook: {obj=}\")\n",
        "    try:\n",
        "      if obj['_meta'] == '_complex':\n",
        "          return complex(*obj['num'])\n",
        "    except KeyError:\n",
        "      return obj\n",
        "data_out = json.loads(json_data, object_hook=object_hook)\n",
        "print(data_out)"
      ],
      "metadata": {
        "colab": {
          "base_uri": "https://localhost:8080/"
        },
        "id": "wb5Ou5zIfcVE",
        "outputId": "f62b8ea1-97e1-46d5-b475-9c2174ba2864"
      },
      "execution_count": null,
      "outputs": [
        {
          "output_type": "stream",
          "name": "stdout",
          "text": [
            "ComplexEncoder.default: obj=(3+4j)\n",
            "{\"an_int\": 42, \"a_float\": 3.14159265, \"a_complex\": {\"_meta\": \"_complex\", \"num\": [3.0, 4.0]}}\n",
            "object_hook: obj={'_meta': '_complex', 'num': [3.0, 4.0]}\n",
            "object_hook: obj={'an_int': 42, 'a_float': 3.14159265, 'a_complex': (3+4j)}\n",
            "{'an_int': 42, 'a_float': 3.14159265, 'a_complex': (3+4j)}\n"
          ]
        }
      ]
    },
    {
      "cell_type": "code",
      "source": [
        "#Usando una secuencia en memoria\n",
        "import io    #Importa el módulo io\n",
        "stream = io.StringIO()      #StringIO es un buffer en memoria\n",
        "stream.write('Learning Python Programming.\\n')      #Se escriben    oración usando el método StringIO.write()\n",
        "print('Become a Python ninja!', file=stream)   #Se escribe 2da oración con el método print y dijije los datos a la transmisión\n",
        "contents = stream.getvalue()   #Obtiene el contenido de la transmisión\n",
        "print(contents)   #lo imprime\n",
        "stream.close()    #Close() hace que el buffer de texto sea inmediatamente descartado"
      ],
      "metadata": {
        "colab": {
          "base_uri": "https://localhost:8080/"
        },
        "id": "3OlNqxWWiPWc",
        "outputId": "2028f508-53c3-48d7-d923-972fc1eb8d6f"
      },
      "execution_count": null,
      "outputs": [
        {
          "output_type": "stream",
          "name": "stdout",
          "text": [
            "Learning Python Programming.\n",
            "Become a Python ninja!\n",
            "\n"
          ]
        }
      ]
    },
    {
      "cell_type": "code",
      "source": [
        "# Realizar solicitudes HTTP\n",
        "import requests  #libreria para solicitudes HTTP\n",
        "url = 'https://httpbin.org/post'    #Se declaro una direccion URL con las que se realizaran las solicitudes\n",
        "data = dict(title='Learn Python Programming')  #Diccionario\n",
        "resp = requests.post(url, data=data)  #Se hace uso POST por el tipo de solicitud\n",
        "print('Response for POST')  #Imprime el mensaje 'Response for POST\n",
        "print(resp.json())"
      ],
      "metadata": {
        "colab": {
          "base_uri": "https://localhost:8080/"
        },
        "id": "NkbigWb9ixEe",
        "outputId": "8911c481-5471-4819-a7ea-4f2dad65ebc2"
      },
      "execution_count": null,
      "outputs": [
        {
          "output_type": "stream",
          "name": "stdout",
          "text": [
            "Response for POST\n",
            "{'args': {}, 'data': '', 'files': {}, 'form': {'title': 'Learn Python Programming'}, 'headers': {'Accept': '*/*', 'Accept-Encoding': 'gzip, deflate', 'Content-Length': '30', 'Content-Type': 'application/x-www-form-urlencoded', 'Host': 'httpbin.org', 'User-Agent': 'python-requests/2.31.0', 'X-Amzn-Trace-Id': 'Root=1-650553ee-13b70c4c7282f6c80ee723fd'}, 'json': None, 'origin': '35.236.227.217', 'url': 'https://httpbin.org/post'}\n"
          ]
        }
      ]
    },
    {
      "cell_type": "code",
      "source": [
        "# Serializar datos con pickle\n",
        "import pickle\n",
        "from dataclasses import dataclass\n",
        "@dataclass\n",
        "class Person:          #clase personal usando el decorador dataclass\n",
        "    first_name: str   #Atributo nombre\n",
        "    last_name: str   #Atributo apellido\n",
        "    id: int         #Atributo ID\n",
        "    def greet(self):      #Imprime mensaje de saludo con datos\n",
        "        print(f'Hi, I am {self.first_name} {self.last_name}'\n",
        "              f' and my ID is {self.id}')\n",
        "people = [                                 #Creo lista de instancias\n",
        "    Person('Obi-Wan', 'Kenobi', 123),\n",
        "    Person('Anakin', 'Skywalker', 456),\n",
        "]\n",
        "#guardar datos en formato binario en un archivo\n",
        "with open('data.pickle', 'wb') as stream:\n",
        "    pickle.dump(people, stream)         #dump se usa para alimentar el conocimineto\n",
        "\n",
        "  #cargar datos desde un archivo\n",
        "with open('data.pickle', 'rb') as stream:\n",
        "    peeps = pickle.load(stream)\n",
        "\n",
        "for person in peeps:\n",
        "    person.greet()   #Se vuelve a llamar al metdo greet"
      ],
      "metadata": {
        "colab": {
          "base_uri": "https://localhost:8080/"
        },
        "id": "i6kcyFsbjVcD",
        "outputId": "5a2cf62f-4fa8-4e67-8615-c2a1c4d90d98"
      },
      "execution_count": null,
      "outputs": [
        {
          "output_type": "stream",
          "name": "stdout",
          "text": [
            "Hi, I am Obi-Wan Kenobi and my ID is 123\n",
            "Hi, I am Anakin Skywalker and my ID is 456\n"
          ]
        }
      ]
    },
    {
      "cell_type": "code",
      "source": [
        "import shelve    #Se impotrta libreria shelve\n",
        "class Person:     #Se crea una clase personal simple\n",
        "    def __init__(self, name, id):\n",
        "        self.name = name\n",
        "        self.id = id\n",
        "\n",
        "with shelve.open('shelf1.shelve') as db:    # Se abre un archivo de estanteria\n",
        "    db['obi1'] = Person('Obi-Wan', 123)     #Se almacenan dos instancias de peronas, una lista y una cadena\n",
        "    db['ani'] = Person('Anakin', 456)\n",
        "    db['a_list'] = [2, 3, 5]\n",
        "    db['delete_me'] = 'we will have to delete this one...'\n",
        "    print(list(db.keys())) # 'ani', 'delete_me', 'a_list', 'obi1']\n",
        "\n",
        "    del db['delete_me'] # gone!\n",
        "    print(list(db.keys())) # ['ani', 'a_list', 'obi1']\n",
        "    print('delete_me' in db) # Falso\n",
        "    print('ani' in db) # verdadero\n",
        "    a_list = db['a_list']\n",
        "    a_list.append(7)\n",
        "    db['a_list'] = a_list\n",
        "    print(db['a_list']) # [2, 3, 5, 7]"
      ],
      "metadata": {
        "colab": {
          "base_uri": "https://localhost:8080/"
        },
        "id": "PEco2-86kclm",
        "outputId": "6189fbcf-db90-45e1-e38b-05a498d1b396"
      },
      "execution_count": null,
      "outputs": [
        {
          "output_type": "stream",
          "name": "stdout",
          "text": [
            "['a_list', 'ani', 'delete_me', 'obi1']\n",
            "['a_list', 'ani', 'obi1']\n",
            "False\n",
            "True\n",
            "[2, 3, 5, 7]\n"
          ]
        }
      ]
    },
    {
      "cell_type": "code",
      "source": [
        "#Realizar solicitudes HTTP\n",
        "import requests   #Se importa la libreria\n",
        "\n",
        "#Se declararon las dirección URL con las que se realizarán las solicitudes\n",
        "urls = {\n",
        "    \"get\": \"https://httpbin.org/get?t=learn+python+programming\",\n",
        "    \"headers\": \"https://httpbin.org/headers\",\n",
        "    \"ip\": \"https://httpbin.org/ip\",\n",
        "    \"user-agent\": \"https://httpbin.org/user-agent\",\n",
        "    \"UUID\": \"https://httpbin.org/uuid\",\n",
        "    \"JSON\": \"https://httpbin.org/json\",\n",
        "}\n",
        "\n",
        "def get_content(title, url):   #el codigo fue capsulado por la funcion get_content\n",
        "    resp = requests.get(url)    #Se hace uso de la funcion resquest.get\n",
        "    print(f\"Response for {title}\")    #Imprime el titulo\n",
        "    print(resp.json())          #Se usa la funcion resp.json\n",
        "\n",
        "for title, url in urls.items():  #Se ejecuta bucle for y se obtiene todas las URL\n",
        "    get_content(title, url)\n",
        "    print(\"-\" * 40)"
      ],
      "metadata": {
        "colab": {
          "base_uri": "https://localhost:8080/"
        },
        "id": "kGflgif5nGkt",
        "outputId": "9922bd08-8ce8-47dc-f521-77cd3dbefb56"
      },
      "execution_count": null,
      "outputs": [
        {
          "output_type": "stream",
          "name": "stdout",
          "text": [
            "Response for get\n",
            "{'args': {'t': 'learn python programming'}, 'headers': {'Accept': '*/*', 'Accept-Encoding': 'gzip, deflate', 'Host': 'httpbin.org', 'User-Agent': 'python-requests/2.31.0', 'X-Amzn-Trace-Id': 'Root=1-6503ffb7-388ef33454ce4e4f32110139'}, 'origin': '34.73.55.101', 'url': 'https://httpbin.org/get?t=learn+python+programming'}\n",
            "----------------------------------------\n",
            "Response for headers\n",
            "{'headers': {'Accept': '*/*', 'Accept-Encoding': 'gzip, deflate', 'Host': 'httpbin.org', 'User-Agent': 'python-requests/2.31.0', 'X-Amzn-Trace-Id': 'Root=1-6503ffb7-240dffb66692573671f08aad'}}\n",
            "----------------------------------------\n",
            "Response for ip\n",
            "{'origin': '34.73.55.101'}\n",
            "----------------------------------------\n",
            "Response for user-agent\n",
            "{'user-agent': 'python-requests/2.31.0'}\n",
            "----------------------------------------\n",
            "Response for UUID\n",
            "{'uuid': 'f6273c9b-2c81-4fe8-83fe-0a1788ef694c'}\n",
            "----------------------------------------\n",
            "Response for JSON\n",
            "{'slideshow': {'author': 'Yours Truly', 'date': 'date of publication', 'slides': [{'title': 'Wake up to WonderWidgets!', 'type': 'all'}, {'items': ['Why <em>WonderWidgets</em> are great', 'Who <em>buys</em> WonderWidgets'], 'title': 'Overview', 'type': 'all'}], 'title': 'Sample Slide Show'}}\n",
            "----------------------------------------\n"
          ]
        }
      ]
    },
    {
      "cell_type": "code",
      "source": [
        "# Manipular nombres de rutas\n",
        "from pathlib import Path  #Se importa libreria path\n",
        "p = Path('fear.txt')\n",
        "print(p.absolute())\n",
        "print(p.name)\n",
        "print(p.parent.absolute())\n",
        "print(p.suffix)\n",
        "print(p.parts)\n",
        "print(p.absolute().parts)\n",
        "readme_path = p.parent / '..' / '..' / 'README.rst' # los '..' inican los cambios de carpeta principal\n",
        "print(readme_path.absolute())\n",
        "print(readme_path.resolve())   #Muestra el resultado"
      ],
      "metadata": {
        "colab": {
          "base_uri": "https://localhost:8080/"
        },
        "id": "DHyS50_8oPTl",
        "outputId": "05f15da1-5daa-4d25-99bb-30a1a2ea70dc"
      },
      "execution_count": null,
      "outputs": [
        {
          "output_type": "stream",
          "name": "stdout",
          "text": [
            "/content/fear.txt\n",
            "fear.txt\n",
            "/content\n",
            ".txt\n",
            "('fear.txt',)\n",
            "('/', 'content', 'fear.txt')\n",
            "/content/../../README.rst\n",
            "/README.rst\n"
          ]
        }
      ]
    },
    {
      "cell_type": "code",
      "source": [
        "#Contenido del directorio\n",
        "from pathlib import Path  #Se importa libreria path\n",
        "p = Path('.')\n",
        "for entry in p.glob('*'): #Se usa la funcion glob() de un objeto path\n",
        "    print('File:' if entry.is_file() else 'Folder:', entry) #Se guarda el archivo y se imprime"
      ],
      "metadata": {
        "colab": {
          "base_uri": "https://localhost:8080/"
        },
        "id": "vTcnM8oRoaVy",
        "outputId": "da7fdc68-6455-45e8-dcf4-a27a32158ea7"
      },
      "execution_count": null,
      "outputs": [
        {
          "output_type": "stream",
          "name": "stdout",
          "text": [
            "Folder: .config\n",
            "File: data.pickle\n",
            "Folder: sample_data\n"
          ]
        }
      ]
    },
    {
      "cell_type": "code",
      "source": [
        "#Trbajando con JSON\n",
        "import json        #Se importa libreria json\n",
        "\n",
        "data_in = {                 #Se crea una tupla en lugar de una lista\n",
        "    'a_tuple': (1, 2, 3, 4, 5),\n",
        "}\n",
        "\n",
        "json_data = json.dumps(data_in)     #Se agrega la funcion json.dumps para crear y retonar una cadena\n",
        "print(json_data)                 #Imprime el tuple\n",
        "data_out = json.loads(json_data)\n",
        "print(data_out)"
      ],
      "metadata": {
        "colab": {
          "base_uri": "https://localhost:8080/"
        },
        "id": "hqOgLuQiVjTO",
        "outputId": "25d59e62-e6bc-4e7a-ec86-05dfc3a528f5"
      },
      "execution_count": null,
      "outputs": [
        {
          "output_type": "stream",
          "name": "stdout",
          "text": [
            "{\"a_tuple\": [1, 2, 3, 4, 5]}\n",
            "{'a_tuple': [1, 2, 3, 4, 5]}\n"
          ]
        }
      ]
    }
  ]
}